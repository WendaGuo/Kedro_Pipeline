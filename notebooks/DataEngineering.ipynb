{
 "cells": [
  {
   "cell_type": "code",
   "execution_count": 34,
   "metadata": {},
   "outputs": [],
   "source": [
    "import yaml\n",
    "import pandas as pd\n",
    "import numpy as np\n",
    "from typing import Any, Dict, List\n",
    "import logging\n",
    "import matplotlib.pyplot as plt\n",
    "from datetime import datetime\n",
    "%matplotlib inline"
   ]
  },
  {
   "cell_type": "code",
   "execution_count": 13,
   "metadata": {},
   "outputs": [],
   "source": [
    "file_name = \"/Users/wen/Desktop/AD/boston_house_prices/data/01_raw/boston_house_prices.csv\""
   ]
  },
  {
   "cell_type": "code",
   "execution_count": 18,
   "metadata": {},
   "outputs": [],
   "source": [
    "raw_data = pd.read_csv(file_name)"
   ]
  },
  {
   "cell_type": "code",
   "execution_count": 7,
   "metadata": {},
   "outputs": [
    {
     "name": "stderr",
     "output_type": "stream",
     "text": [
      "/Users/wen/anaconda3/lib/python3.6/site-packages/ipykernel_launcher.py:2: YAMLLoadWarning: calling yaml.load() without Loader=... is deprecated, as the default Loader is unsafe. Please read https://msg.pyyaml.org/load for full details.\n",
      "  \n"
     ]
    }
   ],
   "source": [
    "with open(\"/Users/wen/Desktop/AD/boston_house_prices/conf/base/parameters.yml\") as stream:\n",
    "    param = yaml.load(stream)"
   ]
  },
  {
   "cell_type": "code",
   "execution_count": 10,
   "metadata": {},
   "outputs": [
    {
     "data": {
      "text/plain": [
       "True"
      ]
     },
     "execution_count": 10,
     "metadata": {},
     "output_type": "execute_result"
    }
   ],
   "source": [
    "isinstance(param['columns_to_be_extracted'],list)"
   ]
  },
  {
   "cell_type": "code",
   "execution_count": 19,
   "metadata": {},
   "outputs": [],
   "source": [
    "def reScaling(data: pd.DataFrame, columns_to_be_extracted: List[str]) -> pd.DataFrame:\n",
    "    if not isinstance(columns_to_be_extracted, list):\n",
    "        raise ValueError(\"Error when extracting column names form yaml!\")\n",
    "    data = data[columns_to_be_extracted].sample(frac=1).reset_index(drop=True)\n",
    "    normalize = lambda df: (df-df.mean())/df.std()\n",
    "    data.iloc[:,:-1] = normalize(data.iloc[:,:-1])\n",
    "    return data\n",
    "    "
   ]
  },
  {
   "cell_type": "code",
   "execution_count": 20,
   "metadata": {},
   "outputs": [],
   "source": [
    "data = reScaling(raw_data, param['columns_to_be_extracted'])"
   ]
  },
  {
   "cell_type": "code",
   "execution_count": 27,
   "metadata": {},
   "outputs": [],
   "source": [
    "def dataSplit(data: pd.DataFrame, train_test_split_ratio:float) -> Dict[str,Any]:\n",
    "    n=data.shape[0]\n",
    "    test_n = int(n * train_test_split_ratio)\n",
    "    train_data = data.iloc[test_n:, :].reset_index(drop=True)\n",
    "    test_data = data.iloc[:test_n, :].reset_index(drop=True)\n",
    "    \n",
    "    train_data_x = train_data.iloc[:, :-1]\n",
    "    train_data_y = train_data.iloc[:, -1]\n",
    "    test_data_x = test_data.iloc[:, :-1]\n",
    "    test_data_y = test_data.iloc[:, -1]\n",
    "    \n",
    "    return dict(\n",
    "        train_x = train_data_x,\n",
    "        train_y = train_data_y,\n",
    "        test_x = test_data_x,\n",
    "        test_y = test_data_y\n",
    "    )"
   ]
  },
  {
   "cell_type": "code",
   "execution_count": 28,
   "metadata": {},
   "outputs": [],
   "source": [
    "splited = dataSplit(data, 0.2)"
   ]
  },
  {
   "cell_type": "code",
   "execution_count": 29,
   "metadata": {},
   "outputs": [
    {
     "data": {
      "text/plain": [
       "dict_keys(['train_x', 'train_y', 'test_x', 'test_y'])"
      ]
     },
     "execution_count": 29,
     "metadata": {},
     "output_type": "execute_result"
    }
   ],
   "source": [
    "splited.keys()"
   ]
  },
  {
   "cell_type": "code",
   "execution_count": 30,
   "metadata": {},
   "outputs": [
    {
     "data": {
      "text/html": [
       "<div>\n",
       "<style scoped>\n",
       "    .dataframe tbody tr th:only-of-type {\n",
       "        vertical-align: middle;\n",
       "    }\n",
       "\n",
       "    .dataframe tbody tr th {\n",
       "        vertical-align: top;\n",
       "    }\n",
       "\n",
       "    .dataframe thead th {\n",
       "        text-align: right;\n",
       "    }\n",
       "</style>\n",
       "<table border=\"1\" class=\"dataframe\">\n",
       "  <thead>\n",
       "    <tr style=\"text-align: right;\">\n",
       "      <th></th>\n",
       "      <th>CRIM</th>\n",
       "      <th>INDUS</th>\n",
       "      <th>NOX</th>\n",
       "      <th>RM</th>\n",
       "      <th>AGE</th>\n",
       "      <th>DIS</th>\n",
       "      <th>TAX</th>\n",
       "      <th>PTRATIO</th>\n",
       "      <th>B</th>\n",
       "      <th>LSTAT</th>\n",
       "    </tr>\n",
       "  </thead>\n",
       "  <tbody>\n",
       "    <tr>\n",
       "      <th>0</th>\n",
       "      <td>-0.395001</td>\n",
       "      <td>-0.079701</td>\n",
       "      <td>-0.566935</td>\n",
       "      <td>-0.146074</td>\n",
       "      <td>-0.929874</td>\n",
       "      <td>0.071405</td>\n",
       "      <td>-0.778684</td>\n",
       "      <td>0.066730</td>\n",
       "      <td>0.404798</td>\n",
       "      <td>-0.445741</td>\n",
       "    </tr>\n",
       "    <tr>\n",
       "      <th>1</th>\n",
       "      <td>-0.414822</td>\n",
       "      <td>-1.193347</td>\n",
       "      <td>-1.093352</td>\n",
       "      <td>0.441728</td>\n",
       "      <td>-1.661698</td>\n",
       "      <td>0.762715</td>\n",
       "      <td>-0.927019</td>\n",
       "      <td>-0.071842</td>\n",
       "      <td>0.426705</td>\n",
       "      <td>-1.166922</td>\n",
       "    </tr>\n",
       "    <tr>\n",
       "      <th>2</th>\n",
       "      <td>-0.142512</td>\n",
       "      <td>1.230727</td>\n",
       "      <td>2.729645</td>\n",
       "      <td>-1.933677</td>\n",
       "      <td>0.963630</td>\n",
       "      <td>-1.108530</td>\n",
       "      <td>-0.031074</td>\n",
       "      <td>-1.734701</td>\n",
       "      <td>0.383767</td>\n",
       "      <td>2.363365</td>\n",
       "    </tr>\n",
       "    <tr>\n",
       "      <th>3</th>\n",
       "      <td>-0.413462</td>\n",
       "      <td>-1.126295</td>\n",
       "      <td>-0.566935</td>\n",
       "      <td>0.171310</td>\n",
       "      <td>0.189176</td>\n",
       "      <td>-0.333827</td>\n",
       "      <td>-0.820218</td>\n",
       "      <td>-0.302794</td>\n",
       "      <td>0.403922</td>\n",
       "      <td>-0.623586</td>\n",
       "    </tr>\n",
       "    <tr>\n",
       "      <th>4</th>\n",
       "      <td>-0.416511</td>\n",
       "      <td>-1.445520</td>\n",
       "      <td>-1.309096</td>\n",
       "      <td>1.372534</td>\n",
       "      <td>-1.658145</td>\n",
       "      <td>2.327746</td>\n",
       "      <td>-1.081288</td>\n",
       "      <td>-0.256604</td>\n",
       "      <td>0.429991</td>\n",
       "      <td>-1.098305</td>\n",
       "    </tr>\n",
       "    <tr>\n",
       "      <th>...</th>\n",
       "      <td>...</td>\n",
       "      <td>...</td>\n",
       "      <td>...</td>\n",
       "      <td>...</td>\n",
       "      <td>...</td>\n",
       "      <td>...</td>\n",
       "      <td>...</td>\n",
       "      <td>...</td>\n",
       "      <td>...</td>\n",
       "      <td>...</td>\n",
       "    </tr>\n",
       "    <tr>\n",
       "      <th>400</th>\n",
       "      <td>4.043145</td>\n",
       "      <td>1.014995</td>\n",
       "      <td>1.193543</td>\n",
       "      <td>-1.183624</td>\n",
       "      <td>1.116390</td>\n",
       "      <td>-1.094853</td>\n",
       "      <td>1.529413</td>\n",
       "      <td>0.805778</td>\n",
       "      <td>0.440616</td>\n",
       "      <td>2.511803</td>\n",
       "    </tr>\n",
       "    <tr>\n",
       "      <th>401</th>\n",
       "      <td>-0.375089</td>\n",
       "      <td>-0.180279</td>\n",
       "      <td>-0.092296</td>\n",
       "      <td>0.401877</td>\n",
       "      <td>0.665217</td>\n",
       "      <td>-0.091533</td>\n",
       "      <td>-0.618482</td>\n",
       "      <td>-0.025651</td>\n",
       "      <td>0.427362</td>\n",
       "      <td>-0.472348</td>\n",
       "    </tr>\n",
       "    <tr>\n",
       "      <th>402</th>\n",
       "      <td>1.261465</td>\n",
       "      <td>1.014995</td>\n",
       "      <td>0.365083</td>\n",
       "      <td>0.807503</td>\n",
       "      <td>1.116390</td>\n",
       "      <td>-1.106298</td>\n",
       "      <td>1.529413</td>\n",
       "      <td>0.805778</td>\n",
       "      <td>-1.942213</td>\n",
       "      <td>0.998022</td>\n",
       "    </tr>\n",
       "    <tr>\n",
       "      <th>403</th>\n",
       "      <td>-0.204727</td>\n",
       "      <td>1.230727</td>\n",
       "      <td>0.434121</td>\n",
       "      <td>2.159591</td>\n",
       "      <td>1.052444</td>\n",
       "      <td>-0.833136</td>\n",
       "      <td>-0.031074</td>\n",
       "      <td>-1.734701</td>\n",
       "      <td>0.360765</td>\n",
       "      <td>-1.503007</td>\n",
       "    </tr>\n",
       "    <tr>\n",
       "      <th>404</th>\n",
       "      <td>0.724658</td>\n",
       "      <td>1.014995</td>\n",
       "      <td>1.003687</td>\n",
       "      <td>0.724955</td>\n",
       "      <td>1.073759</td>\n",
       "      <td>-1.157350</td>\n",
       "      <td>1.529413</td>\n",
       "      <td>0.805778</td>\n",
       "      <td>0.440616</td>\n",
       "      <td>1.202473</td>\n",
       "    </tr>\n",
       "  </tbody>\n",
       "</table>\n",
       "<p>405 rows × 10 columns</p>\n",
       "</div>"
      ],
      "text/plain": [
       "         CRIM     INDUS       NOX        RM       AGE       DIS       TAX  \\\n",
       "0   -0.395001 -0.079701 -0.566935 -0.146074 -0.929874  0.071405 -0.778684   \n",
       "1   -0.414822 -1.193347 -1.093352  0.441728 -1.661698  0.762715 -0.927019   \n",
       "2   -0.142512  1.230727  2.729645 -1.933677  0.963630 -1.108530 -0.031074   \n",
       "3   -0.413462 -1.126295 -0.566935  0.171310  0.189176 -0.333827 -0.820218   \n",
       "4   -0.416511 -1.445520 -1.309096  1.372534 -1.658145  2.327746 -1.081288   \n",
       "..        ...       ...       ...       ...       ...       ...       ...   \n",
       "400  4.043145  1.014995  1.193543 -1.183624  1.116390 -1.094853  1.529413   \n",
       "401 -0.375089 -0.180279 -0.092296  0.401877  0.665217 -0.091533 -0.618482   \n",
       "402  1.261465  1.014995  0.365083  0.807503  1.116390 -1.106298  1.529413   \n",
       "403 -0.204727  1.230727  0.434121  2.159591  1.052444 -0.833136 -0.031074   \n",
       "404  0.724658  1.014995  1.003687  0.724955  1.073759 -1.157350  1.529413   \n",
       "\n",
       "      PTRATIO         B     LSTAT  \n",
       "0    0.066730  0.404798 -0.445741  \n",
       "1   -0.071842  0.426705 -1.166922  \n",
       "2   -1.734701  0.383767  2.363365  \n",
       "3   -0.302794  0.403922 -0.623586  \n",
       "4   -0.256604  0.429991 -1.098305  \n",
       "..        ...       ...       ...  \n",
       "400  0.805778  0.440616  2.511803  \n",
       "401 -0.025651  0.427362 -0.472348  \n",
       "402  0.805778 -1.942213  0.998022  \n",
       "403 -1.734701  0.360765 -1.503007  \n",
       "404  0.805778  0.440616  1.202473  \n",
       "\n",
       "[405 rows x 10 columns]"
      ]
     },
     "execution_count": 30,
     "metadata": {},
     "output_type": "execute_result"
    }
   ],
   "source": [
    "splited['train_x']"
   ]
  },
  {
   "cell_type": "code",
   "execution_count": 31,
   "metadata": {},
   "outputs": [
    {
     "data": {
      "text/plain": [
       "0      25.0\n",
       "1      30.8\n",
       "2      14.6\n",
       "3      22.0\n",
       "4      35.4\n",
       "       ... \n",
       "400     5.0\n",
       "401    23.8\n",
       "402    27.5\n",
       "403    50.0\n",
       "404    13.3\n",
       "Name: MEDV, Length: 405, dtype: float64"
      ]
     },
     "execution_count": 31,
     "metadata": {},
     "output_type": "execute_result"
    }
   ],
   "source": [
    "splited['train_y']"
   ]
  },
  {
   "cell_type": "code",
   "execution_count": 39,
   "metadata": {},
   "outputs": [],
   "source": [
    "now = datetime.now()\n",
    "now_time = datetime.strftime(now,'%m/%d/%Y %H:%M:%S')"
   ]
  },
  {
   "cell_type": "code",
   "execution_count": 40,
   "metadata": {},
   "outputs": [
    {
     "data": {
      "text/plain": [
       "'03/19/2020 12:20:53'"
      ]
     },
     "execution_count": 40,
     "metadata": {},
     "output_type": "execute_result"
    }
   ],
   "source": [
    "now_time"
   ]
  },
  {
   "cell_type": "code",
   "execution_count": null,
   "metadata": {},
   "outputs": [],
   "source": []
  }
 ],
 "metadata": {
  "kernelspec": {
   "display_name": "Python 3",
   "language": "python",
   "name": "python3"
  },
  "language_info": {
   "codemirror_mode": {
    "name": "ipython",
    "version": 3
   },
   "file_extension": ".py",
   "mimetype": "text/x-python",
   "name": "python",
   "nbconvert_exporter": "python",
   "pygments_lexer": "ipython3",
   "version": "3.6.8"
  }
 },
 "nbformat": 4,
 "nbformat_minor": 2
}
